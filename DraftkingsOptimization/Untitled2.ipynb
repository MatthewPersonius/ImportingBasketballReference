{
 "cells": [
  {
   "cell_type": "code",
   "execution_count": 7,
   "id": "bfa6bdd0",
   "metadata": {},
   "outputs": [],
   "source": [
    "# Importing data analytics related libraries (DataFrame and Visualization)\n",
    "import pandas as pd\n",
    "import matplotlib.pyplot as plt\n",
    "from matplotlib import style\n",
    "\n",
    "# Adjusting the size of matplotlib\n",
    "import matplotlib as mpl\n",
    "mpl.rc('figure', figsize=(8, 7))\n",
    "mpl.__version__\n",
    "\n",
    "# Adjusting the style of matplotlib\n",
    "style.use('ggplot')\n",
    "\n",
    "# Magic to tell python notebook we want matplotlib charts included\n",
    "%matplotlib inline\n",
    "\n",
    "# importing pulp as an optimization solver\n",
    "from pulp import *\n",
    "import re\n",
    "\n",
    "import matplotlib.pyplot as plt\n",
    "from IPython.display import Image"
   ]
  },
  {
   "cell_type": "code",
   "execution_count": 8,
   "id": "486ceef7",
   "metadata": {},
   "outputs": [
    {
     "name": "stdout",
     "output_type": "stream",
     "text": [
      "Requirement already satisfied: pulp in /opt/anaconda3/lib/python3.8/site-packages (2.5.0)\r\n"
     ]
    }
   ],
   "source": [
    "!pip install pulp"
   ]
  },
  {
   "cell_type": "code",
   "execution_count": 9,
   "id": "d4aff9db",
   "metadata": {},
   "outputs": [],
   "source": [
    "Download=pd.read_csv(\"DKSalaries-4.csv\")"
   ]
  },
  {
   "cell_type": "code",
   "execution_count": null,
   "id": "addf53ff",
   "metadata": {},
   "outputs": [],
   "source": []
  },
  {
   "cell_type": "code",
   "execution_count": 10,
   "id": "8184f1ce",
   "metadata": {},
   "outputs": [
    {
     "ename": "AttributeError",
     "evalue": "module 'pulp.pulp' has no attribute 'LpMaximize'",
     "output_type": "error",
     "traceback": [
      "\u001b[0;31m---------------------------------------------------------------------------\u001b[0m",
      "\u001b[0;31mAttributeError\u001b[0m                            Traceback (most recent call last)",
      "\u001b[0;32m<ipython-input-10-6205d85321be>\u001b[0m in \u001b[0;36m<module>\u001b[0;34m\u001b[0m\n\u001b[0;32m----> 1\u001b[0;31m \u001b[0mprob\u001b[0m \u001b[0;34m=\u001b[0m \u001b[0mpulp\u001b[0m\u001b[0;34m.\u001b[0m\u001b[0mLpProblem\u001b[0m\u001b[0;34m(\u001b[0m\u001b[0;34m'ProjectingOptimalLineup'\u001b[0m\u001b[0;34m,\u001b[0m \u001b[0mpulp\u001b[0m\u001b[0;34m.\u001b[0m\u001b[0mLpMaximize\u001b[0m\u001b[0;34m)\u001b[0m\u001b[0;34m\u001b[0m\u001b[0;34m\u001b[0m\u001b[0m\n\u001b[0m",
      "\u001b[0;31mAttributeError\u001b[0m: module 'pulp.pulp' has no attribute 'LpMaximize'"
     ]
    }
   ],
   "source": [
    "prob = pulp.LpProblem('', pulp.LpMaximize)"
   ]
  },
  {
   "cell_type": "code",
   "execution_count": null,
   "id": "d847e473",
   "metadata": {},
   "outputs": [],
   "source": [
    "In [15]:\n",
    "#create decision variables\n",
    "decision_variables = []\n",
    "for rownum, row in dfclean.iterrows():\n",
    "    variablestr = str('x' + str(rownum)) #Create naming of variables\n",
    "    variable = pulp.LpVariable(str(variablestr), lowBound = 0, upBound = 1, cat= 'Integer') #make variables binary\n",
    "    decision_variables.append(variable) #Appending variables\n",
    "\n",
    "print (\"Total number of decision_variables: \" + str(len(decision_variables)))"
   ]
  },
  {
   "cell_type": "code",
   "execution_count": null,
   "id": "ad802a58",
   "metadata": {},
   "outputs": [],
   "source": [
    "#create optimization function\n",
    "total_books = \"\"\n",
    "for rownum, row in dfclean.iterrows():\n",
    "    for i, book in enumerate(decision_variables):\n",
    "        if rownum == i:\n",
    "            total_books += row['rating.1']*book\n",
    "            \n",
    "prob += total_books\n",
    "print (\"Optimization function: \"+str(total_books))"
   ]
  },
  {
   "cell_type": "code",
   "execution_count": null,
   "id": "57dc54cf",
   "metadata": {},
   "outputs": [],
   "source": [
    "\n",
    "#create constrains - there are only 365 days\n",
    "hours_week_read = 5\n",
    "pages_per_hour = 60\n",
    "\n",
    "total_pages_needs_to_read = \"\"\n",
    "for rownum, row in dfclean.iterrows():\n",
    "    for i, schedule in enumerate(decision_variables):\n",
    "        if rownum == i:\n",
    "            formula = row['pages']*schedule\n",
    "            total_pages_needs_to_read += formula\n",
    "# 50% of my book is fantasy\n",
    "            \n",
    "total_pages_can_read = 52*hours_week_read*pages_per_hour\n",
    "\n",
    "prob += (total_pages_needs_to_read <= total_pages_can_read)"
   ]
  },
  {
   "cell_type": "code",
   "execution_count": null,
   "id": "c41315f8",
   "metadata": {},
   "outputs": [],
   "source": [
    "print prob\n",
    "prob.writeLP(\"BuyingBestsellers.lp\" )"
   ]
  },
  {
   "cell_type": "code",
   "execution_count": null,
   "id": "133b2c43",
   "metadata": {},
   "outputs": [],
   "source": [
    "optimization_result = prob.solve()\n",
    "assert optimization_result == pulp.LpStatusOptimal\n",
    "print(\"Status:\", LpStatus[prob.status])\n",
    "print(\"Optimal Solution to the problem: \", value(prob.objective))\n",
    "print (\"Individual decision_variables: \")\n",
    "for v in prob.variables():\n",
    "    print(v.name, \"=\", v.varValue)"
   ]
  },
  {
   "cell_type": "code",
   "execution_count": null,
   "id": "88ae99f5",
   "metadata": {},
   "outputs": [],
   "source": [
    "#reorder results\n",
    "variable_name = []\n",
    "variable_value = []\n",
    "\n",
    "for v in prob.variables():\n",
    "    variable_name.append(v.name)\n",
    "    variable_value.append(v.varValue)\n",
    "\n",
    "df = pd.DataFrame({'variable': variable_name, 'value': variable_value})\n",
    "for rownum, row in df.iterrows():\n",
    "    value = re.findall(r'(\\d+)', row['variable'])\n",
    "    df.loc[rownum, 'variable'] = int(value[0])\n",
    "\n",
    "df = df.sort_index(by='variable')\n",
    "\n",
    "#append results\n",
    "for rownum, row in dfclean.iterrows():\n",
    "    for results_rownum, results_row in df.iterrows():\n",
    "        if rownum == results_row['variable']:\n",
    "            dfclean.loc[rownum, 'decision'] = results_row['value']"
   ]
  },
  {
   "cell_type": "code",
   "execution_count": null,
   "id": "4477e9e3",
   "metadata": {},
   "outputs": [],
   "source": []
  }
 ],
 "metadata": {
  "kernelspec": {
   "display_name": "Python 3",
   "language": "python",
   "name": "python3"
  },
  "language_info": {
   "codemirror_mode": {
    "name": "ipython",
    "version": 3
   },
   "file_extension": ".py",
   "mimetype": "text/x-python",
   "name": "python",
   "nbconvert_exporter": "python",
   "pygments_lexer": "ipython3",
   "version": "3.8.8"
  }
 },
 "nbformat": 4,
 "nbformat_minor": 5
}
