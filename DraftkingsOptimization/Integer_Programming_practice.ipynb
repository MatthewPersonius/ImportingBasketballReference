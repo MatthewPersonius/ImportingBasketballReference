{
 "cells": [
  {
   "cell_type": "code",
   "execution_count": 1,
   "id": "10b94406",
   "metadata": {},
   "outputs": [
    {
     "name": "stdout",
     "output_type": "stream",
     "text": [
      "Requirement already satisfied: ortools in /opt/anaconda3/lib/python3.8/site-packages (9.0.9048)\r\n",
      "Requirement already satisfied: protobuf>=3.15.8 in /opt/anaconda3/lib/python3.8/site-packages (from ortools) (3.18.0)\r\n",
      "Requirement already satisfied: absl-py>=0.11 in /opt/anaconda3/lib/python3.8/site-packages (from ortools) (0.14.0)\r\n",
      "Requirement already satisfied: six in /opt/anaconda3/lib/python3.8/site-packages (from absl-py>=0.11->ortools) (1.15.0)\r\n"
     ]
    }
   ],
   "source": [
    "!pip install ortools"
   ]
  },
  {
   "cell_type": "code",
   "execution_count": 2,
   "id": "241cc4f4",
   "metadata": {},
   "outputs": [],
   "source": [
    "from ortools.linear_solver import pywraplp"
   ]
  },
  {
   "cell_type": "code",
   "execution_count": 3,
   "id": "232ace71",
   "metadata": {},
   "outputs": [],
   "source": [
    "solver = pywraplp.Solver.CreateSolver('SCIP')"
   ]
  },
  {
   "cell_type": "code",
   "execution_count": 4,
   "id": "cd4df30f",
   "metadata": {},
   "outputs": [],
   "source": [
    "#infinity = solver.infinity()\n",
    "#x = solver.IntVar(0.0, infinity, 'x')\n",
    "#y = solver.IntVar(0.0, infinity, 'y')"
   ]
  },
  {
   "cell_type": "code",
   "execution_count": 5,
   "id": "de0aea47",
   "metadata": {},
   "outputs": [],
   "source": [
    "#solver.Add(x+6*y<=15)\n",
    "#solver.Add(x<=4)"
   ]
  },
  {
   "cell_type": "code",
   "execution_count": 6,
   "id": "0a1350cf",
   "metadata": {},
   "outputs": [],
   "source": [
    "#solver.Maximize(x+8*y)"
   ]
  },
  {
   "cell_type": "code",
   "execution_count": 7,
   "id": "d2bd2f55",
   "metadata": {},
   "outputs": [],
   "source": [
    "status = solver.Solve()"
   ]
  },
  {
   "cell_type": "code",
   "execution_count": 8,
   "id": "f18406c6",
   "metadata": {},
   "outputs": [],
   "source": [
    "#if status == pywraplp.Solver.OPTIMAL:\n",
    "#    print(\"Solution\")\n",
    "#    print(\"Objective Value -\", solver.Objective().Value())\n",
    "#    print(\"x -\", x.solution_value())\n",
    "#    print(\"y -\", y.solution_value())\n",
    "#else:\n",
    "#    print(\"The problem does not have an optimal solution.\")"
   ]
  },
  {
   "cell_type": "code",
   "execution_count": 9,
   "id": "677c06c9",
   "metadata": {},
   "outputs": [],
   "source": [
    "infinity = solver.infinity()\n",
    "x1 = solver.IntVar(0.0, infinity, 'x1')\n",
    "x2 = solver.IntVar(0.0, infinity, 'x2')\n",
    "x3 = solver.IntVar(0.0, infinity, 'x3')\n",
    "x4 = solver.IntVar(0.0, infinity, 'x4')\n",
    "x5 = solver.IntVar(0.0, infinity, 'x5')\n",
    "x6 = solver.IntVar(0.0, infinity, 'x6')\n",
    "x7 = solver.IntVar(0.0, infinity, 'x7')\n",
    "x8 = solver.IntVar(0.0, infinity, 'x8')\n",
    "x9 = solver.IntVar(0.0, infinity, 'x9')\n",
    "x10 = solver.IntVar(0.0, infinity, 'x10')\n",
    "x11 = solver.IntVar(0.0, infinity, 'x11')\n",
    "x12 = solver.IntVar(0.0, infinity, 'x12')\n",
    "x13 = solver.IntVar(0.0, infinity, 'x13')\n",
    "x14 = solver.IntVar(0.0, infinity, 'x14')\n",
    "x15 = solver.IntVar(0.0, infinity, 'x15')\n",
    "x16 = solver.IntVar(0.0, infinity, 'x16')\n",
    "x17 = solver.IntVar(0.0, infinity, 'x17')\n",
    "x18 = solver.IntVar(0.0, infinity, 'x18')\n",
    "x19 = solver.IntVar(0.0, infinity, 'x19')\n",
    "x20 = solver.IntVar(0.0, infinity, 'x20')\n",
    "x21 = solver.IntVar(0.0, infinity, 'x21')\n",
    "x22 = solver.IntVar(0.0, infinity, 'x22')\n",
    "x23 = solver.IntVar(0.0, infinity, 'x23')\n",
    "x24 = solver.IntVar(0.0, infinity, 'x24')\n",
    "x25 = solver.IntVar(0.0, infinity, 'x25')\n",
    "x26 = solver.IntVar(0.0, infinity, 'x26')\n",
    "x27 = solver.IntVar(0.0, infinity, 'x27')\n",
    "x28 = solver.IntVar(0.0, infinity, 'x28')\n",
    "#x29 = solver.IntVar(0.0, 1, 'x29')\n",
    "#x30 = solver.IntVar(0.0, 1, 'x30')\n",
    "#x31 = solver.IntVar(0.0, 1, 'x31')\n",
    "#x32 = solver.IntVar(0.0, 1, 'x32')\n",
    "#x33 = solver.IntVar(0.0, 1, 'x33')\n",
    "#x34 = solver.IntVar(0.0, 1, 'x34')\n",
    "#x35 = solver.IntVar(0.0, 1, 'x35')\n",
    "#x36 = solver.IntVar(0.0, 1, 'x36')\n",
    "##x37 = solver.IntVar(0.0, 1, 'x37')\n",
    "#x38 = solver.IntVar(0.0, 1, 'x38')\n",
    "#x39 = solver.IntVar(0.0, 1, 'x39')\n",
    "#x40 = solver.IntVar(0.0, 1, 'x40')\n",
    "#x41 = solver.IntVar(0.0, 1, 'x41')\n",
    "#x42 = solver.IntVar(0.0, 1, 'x42')\n",
    "#x43 = solver.IntVar(0.0, 1, 'x43')\n",
    "#x44 = solver.IntVar(0.0, 1, 'x44')\n",
    "#x45 = solver.IntVar(0.0, 1, 'x45')\n",
    "#x46 = solver.IntVar(0.0, 1, 'x46')\n",
    "#x47 = solver.IntVar(0.0, 1, 'x47')\n",
    "#x48 = solver.IntVar(0.0, 1, 'x48')\n",
    "#x49 = solver.IntVar(0.0, 1, 'x49')\n",
    "#x50 = solver.IntVar(0.0, 1, 'x50')\n",
    "#x51 = solver.IntVar(0.0, 1, 'x51')\n",
    "#x52 = solver.IntVar(0.0, 1, 'x52')\n",
    "#x53 = solver.IntVar(0.0, 1, 'x53')\n",
    "#x54 = solver.IntVar(0.0, 1, 'x54')\n",
    "#x55 = solver.IntVar(0.0, 1, 'x55')\n",
    "#x56 = solver.IntVar(0.0, 1, 'x56')\n",
    "#x57 = solver.IntVar(0.0, 1, 'x57')\n",
    "#x58 = solver.IntVar(0.0, 1, 'x58')\n"
   ]
  },
  {
   "cell_type": "code",
   "execution_count": 10,
   "id": "76d27153",
   "metadata": {},
   "outputs": [],
   "source": [
    "solver.Maximize(x1*67+(x2*67*1.5)+x3*49.7+(x4*49.7*1.5)+x5*44.8+(x6*44.8*1.5)+x7*48+(x8*48*1.5)+\n",
    "                x9*44.4+(x10*44.4*1.5)+x11*43.7+(x12*43.7*1.5)+x13*26+(x14*26*1.5)+x15*29.3+\n",
    "                (x16*29.3*1.5)+x17*24.2+(x18*24.2*1.5)+x19*10.8+(x20*10.8*1.5)+x21*14.4+(x22*14.4*1.5)\n",
    "                +x23*22.8+(x24*22.8*1.5)+x25*15.9+(x26*15.9*1.5)+x27*17.7+(x28*17.7*1.5))\n",
    "\n"
   ]
  },
  {
   "cell_type": "code",
   "execution_count": 11,
   "id": "c68ff3ab",
   "metadata": {},
   "outputs": [
    {
     "data": {
      "text/plain": [
       "<ortools.linear_solver.pywraplp.Constraint; proxy of <Swig Object of type 'operations_research::MPConstraint *' at 0x7fe210d31180> >"
      ]
     },
     "execution_count": 11,
     "metadata": {},
     "output_type": "execute_result"
    }
   ],
   "source": [
    "#solver.Add(x+6*y<=15)\n",
    "\n",
    "solver.Add(x2+x4+x6+x8+x10+x12+x14+x16+x18+x20+x22+x24+x26+x28==1)"
   ]
  },
  {
   "cell_type": "code",
   "execution_count": 12,
   "id": "37ab1256",
   "metadata": {},
   "outputs": [
    {
     "data": {
      "text/plain": [
       "<ortools.linear_solver.pywraplp.Constraint; proxy of <Swig Object of type 'operations_research::MPConstraint *' at 0x7fe210b972d0> >"
      ]
     },
     "execution_count": 12,
     "metadata": {},
     "output_type": "execute_result"
    }
   ],
   "source": [
    "solver.Add(x1+x2+x3+x4+x5+x6+x7+x8+x9+\n",
    "           x10+x11+x12+x13+x14+x15+x16+x17+x18+x19+\n",
    "           x20+x21+x22+x23+x24+x25+x26+x27+x28== 6)\n",
    "\n"
   ]
  },
  {
   "cell_type": "code",
   "execution_count": 13,
   "id": "c91b18d7",
   "metadata": {},
   "outputs": [
    {
     "data": {
      "text/plain": [
       "<ortools.linear_solver.pywraplp.Constraint; proxy of <Swig Object of type 'operations_research::MPConstraint *' at 0x7fe210d1f510> >"
      ]
     },
     "execution_count": 13,
     "metadata": {},
     "output_type": "execute_result"
    }
   ],
   "source": [
    "solver.Add(x1+x2<=1)\n",
    "solver.Add(x3+x4<=1)\n",
    "solver.Add(x5+x6<=1)\n",
    "solver.Add(x7+x8<=1)\n",
    "solver.Add(x9+x10<=1)\n",
    "solver.Add(x11+x12<=1)\n",
    "solver.Add(x13+x14<=1)\n",
    "solver.Add(x15+x16<=1)\n",
    "solver.Add(x17+x18<=1)\n",
    "solver.Add(x19+x20<=1)\n",
    "solver.Add(x21+x22<=1)\n",
    "solver.Add(x23+x24<=1)\n",
    "solver.Add(x25+x26<=1)\n",
    "solver.Add(x27+x28<=1)\n",
    "\n"
   ]
  },
  {
   "cell_type": "code",
   "execution_count": 14,
   "id": "bc5c061d",
   "metadata": {},
   "outputs": [
    {
     "data": {
      "text/plain": [
       "<ortools.linear_solver.pywraplp.Constraint; proxy of <Swig Object of type 'operations_research::MPConstraint *' at 0x7fe210d685a0> >"
      ]
     },
     "execution_count": 14,
     "metadata": {},
     "output_type": "execute_result"
    }
   ],
   "source": [
    "solver.Add((x1*12200)+(x2*18300)+(x3*10400)+(x4*15900)+(x5*10000)+(x6*15000)+(x7*9600)+\n",
    "           (x8*14400)+(x9*9200)+(x10*13800)+(x11*8400)+(x12*12600)+(x13*7600)+(x14*11400)+(x15*6800)+\n",
    "           (x16*10200)+(x17*6200)+(x18*9300)+(x19*5400)+(x20*8100)+(x21*4600)+(x22*6900)+(x23*4200)+(x24*6300)+\n",
    "           (x25*3800)+(x26*5700)+(x27*3400)+(x28*5100) <=50000)"
   ]
  },
  {
   "cell_type": "code",
   "execution_count": 15,
   "id": "acd14938",
   "metadata": {},
   "outputs": [
    {
     "name": "stdout",
     "output_type": "stream",
     "text": [
      "Solution\n",
      "Objective Value - 0.0\n",
      "x1 - 0.0\n",
      "x2 - 0.0\n",
      "x3 - 0.0\n",
      "x4 - 0.0\n",
      "x5 - 0.0\n",
      "x6 - 0.0\n",
      "x7 - 0.0\n",
      "x8 - 0.0\n",
      "x9 - 0.0\n",
      "x10 - 0.0\n",
      "x11 - 0.0\n",
      "x12 - 0.0\n",
      "x13 - 0.0\n",
      "x14 - 0.0\n",
      "x15 - 0.0\n",
      "x16 - 0.0\n",
      "x17 - 0.0\n",
      "x18 - 0.0\n",
      "x19 - 0.0\n",
      "x20 - 0.0\n",
      "x21 - 0.0\n",
      "x22 - 0.0\n",
      "x23 - 0.0\n",
      "x24 - 0.0\n",
      "x25 - 0.0\n",
      "x26 - 0.0\n",
      "x27 - 0.0\n",
      "x28 - 0.0\n"
     ]
    }
   ],
   "source": [
    "if status == pywraplp.Solver.OPTIMAL:\n",
    "    print(\"Solution\")\n",
    "    print(\"Objective Value -\", solver.Objective().Value())\n",
    "    print(\"x1 -\", x1.solution_value())\n",
    "    print(\"x2 -\", x2.solution_value())\n",
    "    print(\"x3 -\", x3.solution_value())\n",
    "    print(\"x4 -\", x4.solution_value())\n",
    "    print(\"x5 -\", x5.solution_value())\n",
    "    print(\"x6 -\", x6.solution_value())\n",
    "    print(\"x7 -\", x7.solution_value())\n",
    "    print(\"x8 -\", x8.solution_value())\n",
    "    print(\"x9 -\", x9.solution_value())\n",
    "    print(\"x10 -\", x10.solution_value())\n",
    "    print(\"x11 -\", x11.solution_value())\n",
    "    print(\"x12 -\", x12.solution_value())\n",
    "    print(\"x13 -\", x13.solution_value())\n",
    "    print(\"x14 -\", x14.solution_value())\n",
    "    print(\"x15 -\", x15.solution_value())\n",
    "    print(\"x16 -\", x16.solution_value())\n",
    "    print(\"x17 -\", x17.solution_value())\n",
    "    print(\"x18 -\", x18.solution_value())\n",
    "    print(\"x19 -\", x19.solution_value())\n",
    "    print(\"x20 -\", x20.solution_value())\n",
    "    print(\"x21 -\", x21.solution_value())\n",
    "    print(\"x22 -\", x22.solution_value())\n",
    "    print(\"x23 -\", x23.solution_value())\n",
    "    print(\"x24 -\", x24.solution_value())\n",
    "    print(\"x25 -\", x25.solution_value())\n",
    "    print(\"x26 -\", x26.solution_value())\n",
    "    print(\"x27 -\", x27.solution_value())\n",
    "    print(\"x28 -\", x28.solution_value())\n",
    "\n",
    "    \n",
    "    \n",
    "else:\n",
    "    print(\"The problem does not have an optimal solution.\")"
   ]
  },
  {
   "cell_type": "code",
   "execution_count": null,
   "id": "cca65738",
   "metadata": {},
   "outputs": [],
   "source": []
  },
  {
   "cell_type": "code",
   "execution_count": null,
   "id": "7fe6df75",
   "metadata": {},
   "outputs": [],
   "source": []
  }
 ],
 "metadata": {
  "kernelspec": {
   "display_name": "Python 3",
   "language": "python",
   "name": "python3"
  },
  "language_info": {
   "codemirror_mode": {
    "name": "ipython",
    "version": 3
   },
   "file_extension": ".py",
   "mimetype": "text/x-python",
   "name": "python",
   "nbconvert_exporter": "python",
   "pygments_lexer": "ipython3",
   "version": "3.8.8"
  }
 },
 "nbformat": 4,
 "nbformat_minor": 5
}
